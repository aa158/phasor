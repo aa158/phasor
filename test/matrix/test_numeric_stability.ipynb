{
 "cells": [
  {
   "cell_type": "code",
   "execution_count": 1,
   "metadata": {
    "collapsed": false,
    "deletable": true,
    "editable": true
   },
   "outputs": [
    {
     "name": "stdout",
     "output_type": "stream",
     "text": [
      "Populating the interactive namespace from numpy and matplotlib\n",
      "Sympy version:  1.0\n"
     ]
    }
   ],
   "source": [
    "import sympy\n",
    "from openLoop.utilities.ipynb.displays import *\n",
    "from openLoop.utilities.ipynb.ipy_sympy import *\n",
    "import scipy.linalg\n",
    "\n",
    "\n",
    "import numpy.testing as np_test\n",
    "import declarative\n",
    "\n",
    "from test_SVD import SVD_gen_check, gen_rand_unitary\n",
    "from openLoop.system import DAG_algorithm\n",
    "from openLoop.system import SRE_matrix_algorithms\n",
    "from openLoop.system import scisparse_algorithm\n",
    "\n",
    "asavefig.org_subfolder = 'plots'"
   ]
  },
  {
   "cell_type": "code",
   "execution_count": 2,
   "metadata": {
    "collapsed": true,
    "deletable": true,
    "editable": true
   },
   "outputs": [],
   "source": [
    "def SVD_compare_error(\n",
    "    N = 10,\n",
    "    length = 10,\n",
    "    solvers = [\n",
    "        scisparse_algorithm, \n",
    "        DAG_algorithm\n",
    "    ],\n",
    "):\n",
    "    U = gen_rand_unitary(N = N, length = length)\n",
    "    V = gen_rand_unitary(N = N, length = length)\n",
    "\n",
    "    seq = dict()\n",
    "    req = dict()\n",
    "    edge_map = dict()\n",
    "    for idx in range(N):\n",
    "        edge_map[idx, idx] = 10**(-5 + 10 * np.random.random())\n",
    "        seq[idx] = set([idx])\n",
    "        req[idx] = set([idx])\n",
    "    S = seq, req, edge_map\n",
    "\n",
    "    M = SRE_matrix_algorithms.matrix_mult_sre(\n",
    "        SRE_matrix_algorithms.matrix_mult_sre(U, S), V\n",
    "    )\n",
    "\n",
    "    SRE_matrix_algorithms.check_sre(M)\n",
    "\n",
    "    print(\"SPARSITY FRAC: \", SRE_matrix_algorithms.SRE_count_sparsity(M))\n",
    "\n",
    "    inputs_set = set(range(N))\n",
    "    outputs_set = set(range(N))\n",
    "\n",
    "    def solve(solver):\n",
    "        Mseq, Mreq, Medge_map = SRE_matrix_algorithms.copy_sre(M)\n",
    "        print(solver)\n",
    "        sbunch = solver.inverse_solve_inplace(\n",
    "            seq = Mseq,\n",
    "            req = Mreq,\n",
    "            edge_map = Medge_map,\n",
    "            inputs_set = inputs_set,\n",
    "            outputs_set = outputs_set,\n",
    "            verbose = True,\n",
    "            negative = False,\n",
    "        )\n",
    "\n",
    "        Minv = sbunch.seq, sbunch.req, sbunch.edge_map\n",
    "        SRE_matrix_algorithms.check_sre(M)\n",
    "        SRE_matrix_algorithms.check_sre(Minv)\n",
    "\n",
    "        Meye = SRE_matrix_algorithms.matrix_mult_sre(M, Minv)\n",
    "        #pprint(Meye)\n",
    "        em1_ll = dict()\n",
    "        em0_ll = dict()\n",
    "        for (k_t, k_f), edge in Meye[2].items():\n",
    "            if (k_t == k_f):\n",
    "                em1_ll[k_t, k_f] = -np.log10(np.maximum(abs(edge - 1), 1e-30))\n",
    "            else:\n",
    "                em0_ll[k_t, k_f] = -np.log10(np.maximum(abs(edge), 1e-30))\n",
    "        \n",
    "        all_e0 = []\n",
    "        all_e1 = []\n",
    "        \n",
    "        for k, e in em0_ll.items():\n",
    "            all_e0.append(e)\n",
    "        for k, e in em1_ll.items():\n",
    "            all_e1.append(e)\n",
    "            \n",
    "        if all_e0:\n",
    "            all_e0 = np.concatenate(all_e0)\n",
    "        else:\n",
    "            all_e0 = []\n",
    "            \n",
    "        if all_e1:\n",
    "            all_e1 = np.concatenate(all_e1)\n",
    "        else:\n",
    "            all_e1 = []\n",
    "        return declarative.Bunch(\n",
    "            solver = solver,\n",
    "            Meye = Meye,\n",
    "            em1_ll = em1_ll,\n",
    "            em0_ll = em0_ll,\n",
    "            all0 = all_e0,\n",
    "            all1 = all_e1,\n",
    "        )\n",
    "    sdict = dict()\n",
    "    for solver in solvers:\n",
    "        sdict[solver] = solve(solver)\n",
    "    return sdict\n",
    "    #pprint(em1_ll)\n",
    "    #pprint(em0_ll)\n"
   ]
  },
  {
   "cell_type": "code",
   "execution_count": 3,
   "metadata": {
    "collapsed": false,
    "deletable": true,
    "editable": true
   },
   "outputs": [
    {
     "name": "stdout",
     "output_type": "stream",
     "text": [
      "SPARSITY FRAC:  0.0275\n",
      "<module 'openLoop.system.scisparse_algorithm' from '/home/mcculler/local/home_sync/projects/openLoop/openLoop/system/scisparse_algorithm.py'>\n",
      "<module 'openLoop.system.DAG_algorithm' from '/home/mcculler/local/home_sync/projects/openLoop/openLoop/system/DAG_algorithm.py'>\n",
      "TRIVIAL STAGE, REMAINING 100\n",
      "TRIVIAL STAGE, REMAINING 39\n",
      "BADGUY STAGE, REMAINING 28\n"
     ]
    }
   ],
   "source": [
    "r = SVD_compare_error(\n",
    "    N = 100,\n",
    "    length = 100,\n",
    ")"
   ]
  },
  {
   "cell_type": "code",
   "execution_count": 4,
   "metadata": {
    "collapsed": false,
    "deletable": true,
    "editable": true
   },
   "outputs": [],
   "source": [
    "b1 = r[DAG_algorithm]\n",
    "b2 = r[scisparse_algorithm]"
   ]
  },
  {
   "cell_type": "code",
   "execution_count": 5,
   "metadata": {
    "collapsed": false,
    "deletable": true,
    "editable": true
   },
   "outputs": [],
   "source": [
    "Meye1 = b1.Meye[2]\n",
    "Meye2 = b2.Meye[2]\n",
    "\n",
    "diag = []\n",
    "offdiag = []\n",
    "diag1 = []\n",
    "offdiag1 = []\n",
    "diag2 = []\n",
    "offdiag2 = []\n",
    "offdiag2x = []\n",
    "for (k1, k2), e1 in Meye1.items():\n",
    "    e2 = Meye2[k1, k2]\n",
    "    e_diff = e1 - e2\n",
    "    if k1 == k2:\n",
    "        diag.append(e_diff)\n",
    "        diag1.append(e1)\n",
    "        diag2.append(e2)\n",
    "    else:\n",
    "        offdiag.append(e_diff)\n",
    "        offdiag1.append(e1)\n",
    "        offdiag2.append(e2)\n",
    "        offdiag2x.append(b2.em0_ll[k1, k2])\n",
    "diag = np.concatenate(diag)\n",
    "offdiag = np.concatenate(offdiag)\n",
    "diag1 = np.concatenate(diag1)\n",
    "offdiag1 = np.concatenate(offdiag1)\n",
    "diag2 = np.concatenate(diag2)\n",
    "offdiag2 = np.concatenate(offdiag2)\n",
    "offdiag2x = np.concatenate(offdiag2x)"
   ]
  },
  {
   "cell_type": "code",
   "execution_count": 6,
   "metadata": {
    "collapsed": false,
    "deletable": true,
    "editable": true
   },
   "outputs": [
    {
     "name": "stdout",
     "output_type": "stream",
     "text": [
      "6.77825808845 30.0\n",
      "13.3190665715 30.0\n",
      "6.62850567899 30.0\n",
      "15.3237707229 30.0\n"
     ]
    },
    {
     "name": "stderr",
     "output_type": "stream",
     "text": [
      "/usr/lib64/python3.5/site-packages/numpy/core/_methods.py:26: VisibleDeprecationWarning: using a non-integer number instead of an integer will result in an error in the future\n",
      "  return umr_maximum(a, axis, None, out, keepdims)\n"
     ]
    },
    {
     "name": "stdout",
     "output_type": "stream",
     "text": [
      "figure: plots/comparison.png\n",
      "[[file:plots/comparison.png]]\n"
     ]
    },
    {
     "data": {
      "text/html": [
       "<img src=\"1497132031/../plots/comparison.png?1497132031\">"
      ],
      "text/plain": [
       "<IPython.core.display.HTML object>"
      ]
     },
     "metadata": {},
     "output_type": "display_data"
    }
   ],
   "source": [
    "axB = mplfigB(Nrows=3)\n",
    "\n",
    "_ = axB.ax0.hist(b1.all0, normed = 1)\n",
    "_ = axB.ax0.hist(b1.all1, normed = 1, alpha = .5)\n",
    "print(np.min(b1.all0), np.max(b1.all0))\n",
    "print(np.min(b1.all1), np.max(b1.all1))\n",
    "\n",
    "_ = axB.ax1.hist(b2.all0, normed = 1)\n",
    "_ = axB.ax1.hist(b2.all1, normed = 1, alpha = .5)\n",
    "print(np.min(b2.all0), np.max(b2.all0))\n",
    "print(np.min(b2.all1), np.max(b2.all1))\n",
    "\n",
    "_ = axB.ax2.hist(-np.log10(np.max(abs(offdiag), 1e-20)), normed = 1, bins = 100)\n",
    "_ = axB.ax2.hist(-np.log10(np.max(abs(diag), 1e-20)), normed = 1, alpha = .5, bins = 100)\n",
    "\n",
    "axB.save('comparison')"
   ]
  },
  {
   "cell_type": "code",
   "execution_count": 7,
   "metadata": {
    "collapsed": false,
    "deletable": true,
    "editable": true
   },
   "outputs": [
    {
     "name": "stdout",
     "output_type": "stream",
     "text": [
      "6.62850567899\n",
      "6.62850567899\n"
     ]
    },
    {
     "name": "stderr",
     "output_type": "stream",
     "text": [
      "/home/mcculler/.local/lib/python3.5/site-packages/ipykernel/__main__.py:1: RuntimeWarning: divide by zero encountered in log10\n",
      "  if __name__ == '__main__':\n"
     ]
    }
   ],
   "source": [
    "idx_max = np.argmax(np.log10(abs(offdiag2)))\n",
    "print(-np.log10(abs(offdiag2[idx_max])))\n",
    "print(offdiag2x[idx_max])\n"
   ]
  },
  {
   "cell_type": "code",
   "execution_count": 8,
   "metadata": {
    "collapsed": false,
    "deletable": true,
    "editable": true
   },
   "outputs": [
    {
     "name": "stdout",
     "output_type": "stream",
     "text": [
      "6.77825808845\n"
     ]
    },
    {
     "name": "stderr",
     "output_type": "stream",
     "text": [
      "/home/mcculler/.local/lib/python3.5/site-packages/ipykernel/__main__.py:1: RuntimeWarning: divide by zero encountered in log10\n",
      "  if __name__ == '__main__':\n"
     ]
    }
   ],
   "source": [
    "idx_max = np.argmax(np.log10(abs(offdiag1)))\n",
    "print(-np.log10(abs(offdiag1[idx_max])))"
   ]
  },
  {
   "cell_type": "code",
   "execution_count": null,
   "metadata": {
    "collapsed": true,
    "deletable": true,
    "editable": true
   },
   "outputs": [],
   "source": []
  }
 ],
 "metadata": {
  "kernelspec": {
   "display_name": "Python 3",
   "language": "python",
   "name": "python3"
  },
  "language_info": {
   "codemirror_mode": {
    "name": "ipython",
    "version": 3
   },
   "file_extension": ".py",
   "mimetype": "text/x-python",
   "name": "python",
   "nbconvert_exporter": "python",
   "pygments_lexer": "ipython3",
   "version": "3.5.3"
  },
  "latex_envs": {
   "bibliofile": "biblio.bib",
   "cite_by": "apalike",
   "current_citInitial": 1,
   "eqLabelWithNumbers": true,
   "eqNumInitial": 0
  }
 },
 "nbformat": 4,
 "nbformat_minor": 1
}
