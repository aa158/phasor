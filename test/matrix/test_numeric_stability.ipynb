{
 "cells": [
  {
   "cell_type": "code",
   "execution_count": 1,
   "metadata": {
    "collapsed": false,
    "deletable": true,
    "editable": true
   },
   "outputs": [
    {
     "name": "stdout",
     "output_type": "stream",
     "text": [
      "Populating the interactive namespace from numpy and matplotlib\n",
      "Sympy version:  1.0\n"
     ]
    }
   ],
   "source": [
    "import sympy\n",
    "from openLoop.utilities.ipynb.displays import *\n",
    "from openLoop.utilities.ipynb.ipy_sympy import *\n",
    "import scipy.linalg\n",
    "\n",
    "\n",
    "import numpy.testing as np_test\n",
    "import declarative\n",
    "\n",
    "from test_SVD import SVD_gen_check, gen_rand_unitary\n",
    "from openLoop.system import DAG_algorithm\n",
    "from openLoop.system import SRE_matrix_algorithms\n",
    "from openLoop.system import scisparse_algorithm\n",
    "\n",
    "asavefig.org_subfolder = 'plots'"
   ]
  },
  {
   "cell_type": "code",
   "execution_count": 2,
   "metadata": {
    "collapsed": true,
    "deletable": true,
    "editable": true
   },
   "outputs": [],
   "source": [
    "from functools import reduce\n",
    "def SVD_compare_error(\n",
    "    N = 10,\n",
    "    length = 10,\n",
    "    solvers = [\n",
    "        scisparse_algorithm, \n",
    "        DAG_algorithm\n",
    "    ],\n",
    "):\n",
    "    U = gen_rand_unitary(N = N, length = length)\n",
    "    V = gen_rand_unitary(N = N, length = length)\n",
    "\n",
    "    seq = dict()\n",
    "    req = dict()\n",
    "    edge_map = dict()\n",
    "    S_diags = []\n",
    "    for idx in range(N):\n",
    "        s_diag = 10**(-5 + 10 * np.random.random(length))\n",
    "        edge_map[idx, idx] = s_diag\n",
    "        S_diags.append(s_diag)\n",
    "        seq[idx] = set([idx])\n",
    "        req[idx] = set([idx])\n",
    "    S = seq, req, edge_map\n",
    "    condition = reduce(np.maximum, S_diags) / reduce(np.minimum, S_diags)\n",
    "\n",
    "    M = SRE_matrix_algorithms.matrix_mult_sre(\n",
    "        SRE_matrix_algorithms.matrix_mult_sre(U, S), V\n",
    "    )\n",
    "\n",
    "    SRE_matrix_algorithms.check_sre(M)\n",
    "\n",
    "    print(\"SPARSITY FRAC: \", SRE_matrix_algorithms.SRE_count_sparsity(M))\n",
    "\n",
    "    inputs_set = set(range(N))\n",
    "    outputs_set = set(range(N))\n",
    "\n",
    "    def solve(solver):\n",
    "        Mseq, Mreq, Medge_map = SRE_matrix_algorithms.copy_sre(M)\n",
    "        print(solver)\n",
    "        sbunch = solver.inverse_solve_inplace(\n",
    "            seq = Mseq,\n",
    "            req = Mreq,\n",
    "            edge_map = Medge_map,\n",
    "            inputs_set = inputs_set,\n",
    "            outputs_set = outputs_set,\n",
    "            verbose = True,\n",
    "            negative = False,\n",
    "        )\n",
    "\n",
    "        Minv = sbunch.seq, sbunch.req, sbunch.edge_map\n",
    "        SRE_matrix_algorithms.check_sre(M)\n",
    "        SRE_matrix_algorithms.check_sre(Minv)\n",
    "\n",
    "        Meye = SRE_matrix_algorithms.matrix_mult_sre(M, Minv)\n",
    "        #pprint(Meye)\n",
    "        em1_ll = dict()\n",
    "        em0_ll = dict()\n",
    "        for (k_t, k_f), edge in Meye[2].items():\n",
    "            if (k_t == k_f):\n",
    "                em1_ll[k_t, k_f] = -np.log10(np.maximum(abs(edge - 1), 1e-30))\n",
    "            else:\n",
    "                em0_ll[k_t, k_f] = -np.log10(np.maximum(abs(edge), 1e-30))\n",
    "        \n",
    "        all_e0 = []\n",
    "        all_e1 = []\n",
    "        \n",
    "        for k, e in em0_ll.items():\n",
    "            all_e0.append(e)\n",
    "        for k, e in em1_ll.items():\n",
    "            all_e1.append(e)\n",
    "            \n",
    "        if all_e0:\n",
    "            all_e0 = np.concatenate(all_e0)\n",
    "        else:\n",
    "            all_e0 = []\n",
    "            \n",
    "        if all_e1:\n",
    "            all_e1 = np.concatenate(all_e1)\n",
    "        else:\n",
    "            all_e1 = []\n",
    "        return declarative.Bunch(\n",
    "            solver = solver,\n",
    "            Meye = Meye,\n",
    "            em1_ll = em1_ll,\n",
    "            em0_ll = em0_ll,\n",
    "            all0 = all_e0,\n",
    "            all1 = all_e1,\n",
    "        )\n",
    "    sdict = dict()\n",
    "    for solver in solvers:\n",
    "        sdict[solver] = solve(solver)\n",
    "    sdict['condition'] = condition\n",
    "    return sdict\n",
    "    #pprint(em1_ll)\n",
    "    #pprint(em0_ll)\n"
   ]
  },
  {
   "cell_type": "code",
   "execution_count": 3,
   "metadata": {
    "collapsed": false,
    "deletable": true,
    "editable": true
   },
   "outputs": [
    {
     "name": "stdout",
     "output_type": "stream",
     "text": [
      "SPARSITY FRAC:  0.0455\n",
      "<module 'openLoop.system.scisparse_algorithm' from '/home/mcculler/local/home_sync/projects/openLoop/openLoop/system/scisparse_algorithm.py'>\n",
      "<module 'openLoop.system.DAG_algorithm' from '/home/mcculler/local/home_sync/projects/openLoop/openLoop/system/DAG_algorithm.py'>\n",
      "TRIVIAL STAGE, REMAINING 100\n",
      "TRIVIAL STAGE, REMAINING 81\n",
      "BADGUY STAGE, REMAINING 81\n"
     ]
    }
   ],
   "source": [
    "r = SVD_compare_error(\n",
    "    N = 100,\n",
    "    length = 100,\n",
    ")"
   ]
  },
  {
   "cell_type": "code",
   "execution_count": 4,
   "metadata": {
    "collapsed": false,
    "deletable": true,
    "editable": true
   },
   "outputs": [],
   "source": [
    "b1 = r[DAG_algorithm]\n",
    "b2 = r[scisparse_algorithm]"
   ]
  },
  {
   "cell_type": "code",
   "execution_count": 5,
   "metadata": {
    "collapsed": false,
    "deletable": true,
    "editable": true
   },
   "outputs": [],
   "source": [
    "Meye1 = b1.Meye[2]\n",
    "Meye2 = b2.Meye[2]\n",
    "\n",
    "diag = []\n",
    "offdiag = []\n",
    "diag1 = []\n",
    "offdiag1 = []\n",
    "diag2 = []\n",
    "offdiag2 = []\n",
    "offdiag2x = []\n",
    "for (k1, k2), e1 in Meye1.items():\n",
    "    e2 = Meye2[k1, k2]\n",
    "    e_diff = e1 - e2\n",
    "    if k1 == k2:\n",
    "        diag.append(e_diff)\n",
    "        diag1.append(e1)\n",
    "        diag2.append(e2)\n",
    "    else:\n",
    "        offdiag.append(e_diff)\n",
    "        offdiag1.append(e1)\n",
    "        offdiag2.append(e2)\n",
    "        offdiag2x.append(b2.em0_ll[k1, k2])\n",
    "diag = np.concatenate(diag)\n",
    "offdiag = np.concatenate(offdiag)\n",
    "diag1 = np.concatenate(diag1)\n",
    "offdiag1 = np.concatenate(offdiag1)\n",
    "diag2 = np.concatenate(diag2)\n",
    "offdiag2 = np.concatenate(offdiag2)\n",
    "offdiag2x = np.concatenate(offdiag2x)"
   ]
  },
  {
   "cell_type": "code",
   "execution_count": 6,
   "metadata": {
    "collapsed": false,
    "deletable": true,
    "editable": true
   },
   "outputs": [
    {
     "name": "stdout",
     "output_type": "stream",
     "text": [
      "2.00473878661 30.0\n",
      "6.39736623699 30.0\n",
      "0.574637681027 30.0\n",
      "5.4444982617 30.0\n",
      "figure: plots/comparison.png\n",
      "[[file:plots/comparison.png]]\n"
     ]
    },
    {
     "data": {
      "text/html": [
       "<img src=\"1497202533/../plots/comparison.png?1497202533\">"
      ],
      "text/plain": [
       "<IPython.core.display.HTML object>"
      ]
     },
     "metadata": {},
     "output_type": "display_data"
    }
   ],
   "source": [
    "axB = mplfigB(Nrows=4)\n",
    "Nbins = 30\n",
    "\n",
    "_ = axB.ax0.hist(b1.all0, normed = 1, bins = Nbins)\n",
    "_ = axB.ax0.hist(b1.all1, normed = 1, alpha = .5, bins = Nbins)\n",
    "axB.ax0.set_yscale('log')\n",
    "print(np.min(b1.all0), np.max(b1.all0))\n",
    "print(np.min(b1.all1), np.max(b1.all1))\n",
    "axB.ax0.set_xlim(0, 30)\n",
    "\n",
    "_ = axB.ax1.hist(b2.all0, normed = 1, bins = Nbins)\n",
    "_ = axB.ax1.hist(b2.all1, normed = 1, alpha = .5, bins = Nbins)\n",
    "print(np.min(b2.all0), np.max(b2.all0))\n",
    "print(np.min(b2.all1), np.max(b2.all1))\n",
    "axB.ax1.set_yscale('log')\n",
    "axB.ax1.set_xlim(0, 30)\n",
    "\n",
    "_ = axB.ax2.hist(-np.log10(np.maximum(abs(offdiag), 1e-30)), normed = 1, bins = Nbins)\n",
    "_ = axB.ax2.hist(-np.log10(np.maximum(abs(diag), 1e-30)), normed = 1, alpha = .5, bins = Nbins)\n",
    "#axB.ax2.set_yscale('log')\n",
    "axB.ax2.set_xlim(0, 30)\n",
    "\n",
    "_ = axB.ax3.hist(np.log10(r['condition']))\n",
    "\n",
    "axB.save('comparison')"
   ]
  },
  {
   "cell_type": "code",
   "execution_count": 7,
   "metadata": {
    "collapsed": false
   },
   "outputs": [
    {
     "data": {
      "text/plain": [
       "array([  5.64929553e+09,   6.86917623e+09,   6.66087936e+09,\n",
       "         7.36407485e+09,   6.37831491e+09,   7.56148951e+09,\n",
       "         6.36606137e+09,   5.57843302e+09,   7.71483921e+09,\n",
       "         4.54774468e+09,   7.28426121e+09,   7.28079239e+09,\n",
       "         7.26596526e+09,   6.77867418e+09,   6.45747157e+09,\n",
       "         8.07738364e+09,   5.73688225e+09,   3.34704216e+09,\n",
       "         5.97136001e+09,   7.99097621e+09,   6.98511614e+09,\n",
       "         5.09528594e+09,   5.83754110e+09,   5.42145245e+09,\n",
       "         5.66990594e+09,   8.39435207e+09,   2.65594696e+09,\n",
       "         4.11619202e+09,   8.08450927e+09,   3.27898562e+09,\n",
       "         4.31415665e+09,   8.63333057e+09,   4.77582598e+09,\n",
       "         8.25003815e+09,   7.02764733e+09,   3.26736579e+09,\n",
       "         5.14682841e+09,   6.34235561e+09,   2.58849636e+09,\n",
       "         6.33777635e+09,   5.45342018e+09,   9.35470632e+09,\n",
       "         8.16507905e+09,   3.29011795e+09,   9.57689709e+09,\n",
       "         9.25552516e+09,   6.91679506e+09,   4.64201891e+09,\n",
       "         6.35200671e+09,   7.71743688e+09,   2.25693889e+09,\n",
       "         5.88563662e+09,   9.77201179e+09,   2.07870002e+09,\n",
       "         5.65388982e+09,   5.29686599e+09,   7.64351570e+09,\n",
       "         8.23165325e+09,   4.43776505e+09,   5.48112981e+09,\n",
       "         6.84684042e+09,   7.20350342e+09,   7.39812103e+09,\n",
       "         2.47541150e+09,   7.50592480e+09,   5.94082876e+09,\n",
       "         6.61071089e+09,   9.39376389e+09,   7.29237753e+09,\n",
       "         9.65590230e+09,   7.87993805e+09,   8.94053304e+09,\n",
       "         6.67940232e+09,   4.99398014e+09,   4.75373714e+09,\n",
       "         6.14901130e+09,   9.22272609e+09,   7.69858331e+09,\n",
       "         8.68626158e+09,   8.89798304e+09,   6.86067387e+09,\n",
       "         9.07299124e+09,   7.08741953e+09,   6.62617244e+09,\n",
       "         6.86164151e+09,   8.30414441e+09,   5.32830644e+09,\n",
       "         4.97481337e+09,   7.40221304e+09,   3.55051611e+09,\n",
       "         8.46913186e+09,   3.58619475e+09,   8.96606556e+09,\n",
       "         8.57940123e+09,   5.33799914e+09,   5.63447859e+09,\n",
       "         9.00533710e+09,   3.23738862e+09,   8.42146609e+09,\n",
       "         3.72820875e+09])"
      ]
     },
     "execution_count": 7,
     "metadata": {},
     "output_type": "execute_result"
    }
   ],
   "source": [
    "r['condition']"
   ]
  },
  {
   "cell_type": "code",
   "execution_count": 8,
   "metadata": {
    "collapsed": false,
    "deletable": true,
    "editable": true
   },
   "outputs": [
    {
     "name": "stdout",
     "output_type": "stream",
     "text": [
      "0.574637681027\n",
      "0.574637681027\n"
     ]
    },
    {
     "name": "stderr",
     "output_type": "stream",
     "text": [
      "/home/mcculler/.local/lib/python3.5/site-packages/ipykernel/__main__.py:1: RuntimeWarning: divide by zero encountered in log10\n",
      "  if __name__ == '__main__':\n"
     ]
    }
   ],
   "source": [
    "idx_max = np.argmax(np.log10(abs(offdiag2)))\n",
    "print(-np.log10(abs(offdiag2[idx_max])))\n",
    "print(offdiag2x[idx_max])\n"
   ]
  },
  {
   "cell_type": "code",
   "execution_count": 9,
   "metadata": {
    "collapsed": false,
    "deletable": true,
    "editable": true
   },
   "outputs": [
    {
     "name": "stdout",
     "output_type": "stream",
     "text": [
      "2.00473878661\n"
     ]
    },
    {
     "name": "stderr",
     "output_type": "stream",
     "text": [
      "/home/mcculler/.local/lib/python3.5/site-packages/ipykernel/__main__.py:1: RuntimeWarning: divide by zero encountered in log10\n",
      "  if __name__ == '__main__':\n"
     ]
    }
   ],
   "source": [
    "idx_max = np.argmax(np.log10(abs(offdiag1)))\n",
    "print(-np.log10(abs(offdiag1[idx_max])))"
   ]
  },
  {
   "cell_type": "code",
   "execution_count": null,
   "metadata": {
    "collapsed": true,
    "deletable": true,
    "editable": true
   },
   "outputs": [],
   "source": []
  }
 ],
 "metadata": {
  "kernelspec": {
   "display_name": "Python 3",
   "language": "python",
   "name": "python3"
  },
  "language_info": {
   "codemirror_mode": {
    "name": "ipython",
    "version": 3
   },
   "file_extension": ".py",
   "mimetype": "text/x-python",
   "name": "python",
   "nbconvert_exporter": "python",
   "pygments_lexer": "ipython3",
   "version": "3.5.3"
  },
  "latex_envs": {
   "bibliofile": "biblio.bib",
   "cite_by": "apalike",
   "current_citInitial": 1,
   "eqLabelWithNumbers": true,
   "eqNumInitial": 0
  }
 },
 "nbformat": 4,
 "nbformat_minor": 1
}
