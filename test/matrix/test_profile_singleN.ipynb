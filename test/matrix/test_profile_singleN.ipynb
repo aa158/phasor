{
 "cells": [
  {
   "cell_type": "code",
   "execution_count": 1,
   "metadata": {
    "collapsed": false,
    "deletable": true,
    "editable": true
   },
   "outputs": [
    {
     "name": "stdout",
     "output_type": "stream",
     "text": [
      "Populating the interactive namespace from numpy and matplotlib\n",
      "Sympy version:  1.0\n"
     ]
    }
   ],
   "source": [
    "import sympy\n",
    "from openLoop.utilities.ipynb.displays import *\n",
    "from openLoop.utilities.ipynb.ipy_sympy import *\n",
    "import scipy.linalg\n",
    "\n",
    "\n",
    "import numpy.testing as np_test\n",
    "import declarative\n",
    "\n",
    "from test_SVD import SVD_gen_check, gen_rand_unitary\n",
    "from openLoop.system import DAG_algorithm\n",
    "from openLoop.system import SRE_matrix_algorithms\n",
    "from openLoop.system import scisparse_algorithm\n",
    "\n",
    "import timeit\n",
    "\n",
    "asavefig.org_subfolder = 'plots'"
   ]
  },
  {
   "cell_type": "code",
   "execution_count": 2,
   "metadata": {
    "collapsed": true,
    "deletable": true,
    "editable": true
   },
   "outputs": [],
   "source": [
    "from functools import reduce\n",
    "def SVD_compare_error(\n",
    "    N = 10,\n",
    "    length = 10,\n",
    "    solver =  DAG_algorithm,\n",
    "    N_in = None,\n",
    "    N_out = None,\n",
    "):\n",
    "    U = gen_rand_unitary(N = N, length = length)\n",
    "    V = gen_rand_unitary(N = N, length = length)\n",
    "\n",
    "    seq = dict()\n",
    "    req = dict()\n",
    "    edge_map = dict()\n",
    "    S_diags = []\n",
    "    for idx in range(N):\n",
    "        s_diag = 10**(-5 + 10 * np.random.random(length))\n",
    "        edge_map[idx, idx] = s_diag\n",
    "        S_diags.append(s_diag)\n",
    "        seq[idx] = set([idx])\n",
    "        req[idx] = set([idx])\n",
    "    S = seq, req, edge_map\n",
    "    condition = reduce(np.maximum, S_diags) / reduce(np.minimum, S_diags)\n",
    "\n",
    "    M = SRE_matrix_algorithms.matrix_mult_sre(\n",
    "        SRE_matrix_algorithms.matrix_mult_sre(U, S), V\n",
    "    )\n",
    "\n",
    "    SRE_matrix_algorithms.check_sre(M)\n",
    "    sparsity = SRE_matrix_algorithms.SRE_count_sparsity(M)\n",
    "    print(\"SPARSITY FRAC: \", sparsity)\n",
    "\n",
    "    if N_in is None:\n",
    "        inputs_set = set(range(N))\n",
    "    else:\n",
    "        inputs_set = set(range(N-N_in, N))\n",
    "    if N_out is None:\n",
    "        outputs_set = set(range(N))\n",
    "    else:\n",
    "        mid = N_out // 2\n",
    "        outputs_set = set(range(0, mid)) | set(range(N-(N_out - mid), N))\n",
    "\n",
    "    Mseq, Mreq, Medge_map = SRE_matrix_algorithms.copy_sre(M)\n",
    "    print(solver)\n",
    "    time_start = timeit.default_timer()\n",
    "    sbunch = solver.inverse_solve_inplace(\n",
    "        seq = Mseq,\n",
    "        req = Mreq,\n",
    "        edge_map = Medge_map,\n",
    "        inputs_set = inputs_set,\n",
    "        outputs_set = outputs_set,\n",
    "        verbose = True,\n",
    "        negative = False,\n",
    "    )\n",
    "    time_end = timeit.default_timer()\n",
    "    b = declarative.Bunch( \n",
    "        time = time_end - time_start,\n",
    "        length = length,\n",
    "    )\n",
    "    b.update(sparsity)\n",
    "    return b"
   ]
  },
  {
   "cell_type": "code",
   "execution_count": null,
   "metadata": {
    "collapsed": false,
    "deletable": true,
    "editable": true
   },
   "outputs": [],
   "source": []
  },
  {
   "cell_type": "code",
   "execution_count": 3,
   "metadata": {
    "collapsed": false,
    "deletable": true,
    "editable": true
   },
   "outputs": [
    {
     "name": "stdout",
     "output_type": "stream",
     "text": [
      "SPARSITY FRAC:  {'Nnodes': 10, 'Nedges': 20, 'density_sq': 0.2, 'density_lin': 2.0}\n",
      "<module 'openLoop.system.DAG_algorithm' from '/home/mcculler/local/home_sync/projects/openLoop/openLoop/system/DAG_algorithm.py'>\n",
      "TRIVIAL STAGE, REMAINING 10\n",
      "TRIVIAL STAGE, REMAINING 9\n",
      "BADGUY STAGE, REMAINING 9\n",
      "SPARSITY FRAC:  {'Nnodes': 10, 'Nedges': 32, 'density_sq': 0.32, 'density_lin': 3.2}\n",
      "<module 'openLoop.system.DAG_algorithm' from '/home/mcculler/local/home_sync/projects/openLoop/openLoop/system/DAG_algorithm.py'>\n",
      "TRIVIAL STAGE, REMAINING 10\n",
      "TRIVIAL STAGE, REMAINING 9\n",
      "BADGUY STAGE, REMAINING 9\n",
      "SPARSITY FRAC:  {'Nnodes': 10, 'Nedges': 26, 'density_sq': 0.26, 'density_lin': 2.6}\n",
      "<module 'openLoop.system.DAG_algorithm' from '/home/mcculler/local/home_sync/projects/openLoop/openLoop/system/DAG_algorithm.py'>\n",
      "TRIVIAL STAGE, REMAINING 10\n",
      "TRIVIAL STAGE, REMAINING 10\n",
      "BADGUY STAGE, REMAINING 10\n",
      "SPARSITY FRAC:  {'Nnodes': 10, 'Nedges': 49, 'density_sq': 0.49, 'density_lin': 4.9}\n",
      "<module 'openLoop.system.DAG_algorithm' from '/home/mcculler/local/home_sync/projects/openLoop/openLoop/system/DAG_algorithm.py'>\n",
      "TRIVIAL STAGE, REMAINING 10\n",
      "TRIVIAL STAGE, REMAINING 10\n",
      "BADGUY STAGE, REMAINING 10\n",
      "SPARSITY FRAC:  {'Nnodes': 10, 'Nedges': 36, 'density_sq': 0.36, 'density_lin': 3.6}\n",
      "<module 'openLoop.system.DAG_algorithm' from '/home/mcculler/local/home_sync/projects/openLoop/openLoop/system/DAG_algorithm.py'>\n",
      "TRIVIAL STAGE, REMAINING 10\n",
      "TRIVIAL STAGE, REMAINING 9\n",
      "BADGUY STAGE, REMAINING 9\n",
      "SPARSITY FRAC:  {'Nnodes': 10, 'Nedges': 22, 'density_sq': 0.22, 'density_lin': 2.2}\n",
      "<module 'openLoop.system.DAG_algorithm' from '/home/mcculler/local/home_sync/projects/openLoop/openLoop/system/DAG_algorithm.py'>\n",
      "TRIVIAL STAGE, REMAINING 10\n",
      "TRIVIAL STAGE, REMAINING 9\n",
      "BADGUY STAGE, REMAINING 9\n",
      "SPARSITY FRAC:  {'Nnodes': 10, 'Nedges': 31, 'density_sq': 0.31, 'density_lin': 3.1}\n",
      "<module 'openLoop.system.DAG_algorithm' from '/home/mcculler/local/home_sync/projects/openLoop/openLoop/system/DAG_algorithm.py'>\n",
      "TRIVIAL STAGE, REMAINING 10\n",
      "TRIVIAL STAGE, REMAINING 10\n",
      "BADGUY STAGE, REMAINING 10\n",
      "SPARSITY FRAC:  {'Nnodes': 10, 'Nedges': 27, 'density_sq': 0.27, 'density_lin': 2.7}\n",
      "<module 'openLoop.system.DAG_algorithm' from '/home/mcculler/local/home_sync/projects/openLoop/openLoop/system/DAG_algorithm.py'>\n",
      "TRIVIAL STAGE, REMAINING 10\n",
      "TRIVIAL STAGE, REMAINING 10\n",
      "BADGUY STAGE, REMAINING 10\n",
      "SPARSITY FRAC:  {'Nnodes': 10, 'Nedges': 35, 'density_sq': 0.35, 'density_lin': 3.5}\n",
      "<module 'openLoop.system.DAG_algorithm' from '/home/mcculler/local/home_sync/projects/openLoop/openLoop/system/DAG_algorithm.py'>\n",
      "TRIVIAL STAGE, REMAINING 10\n",
      "TRIVIAL STAGE, REMAINING 10\n",
      "BADGUY STAGE, REMAINING 10\n",
      "SPARSITY FRAC:  {'Nnodes': 10, 'Nedges': 31, 'density_sq': 0.31, 'density_lin': 3.1}\n",
      "<module 'openLoop.system.DAG_algorithm' from '/home/mcculler/local/home_sync/projects/openLoop/openLoop/system/DAG_algorithm.py'>\n",
      "TRIVIAL STAGE, REMAINING 10\n",
      "TRIVIAL STAGE, REMAINING 10\n",
      "BADGUY STAGE, REMAINING 10\n",
      "SPARSITY FRAC:  {'Nnodes': 10, 'Nedges': 14, 'density_sq': 0.14, 'density_lin': 1.4}\n",
      "<module 'openLoop.system.DAG_algorithm' from '/home/mcculler/local/home_sync/projects/openLoop/openLoop/system/DAG_algorithm.py'>\n",
      "TRIVIAL STAGE, REMAINING 10\n",
      "TRIVIAL STAGE, REMAINING 10\n",
      "BADGUY STAGE, REMAINING 10\n",
      "SPARSITY FRAC:  {'Nnodes': 10, 'Nedges': 20, 'density_sq': 0.2, 'density_lin': 2.0}\n",
      "<module 'openLoop.system.DAG_algorithm' from '/home/mcculler/local/home_sync/projects/openLoop/openLoop/system/DAG_algorithm.py'>\n",
      "TRIVIAL STAGE, REMAINING 10\n",
      "TRIVIAL STAGE, REMAINING 10\n",
      "BADGUY STAGE, REMAINING 10\n",
      "SPARSITY FRAC:  {'Nnodes': 30, 'Nedges': 110, 'density_sq': 0.12222222222222222, 'density_lin': 3.6666666666666665}\n",
      "<module 'openLoop.system.DAG_algorithm' from '/home/mcculler/local/home_sync/projects/openLoop/openLoop/system/DAG_algorithm.py'>\n",
      "TRIVIAL STAGE, REMAINING 30\n",
      "TRIVIAL STAGE, REMAINING 30\n",
      "BADGUY STAGE, REMAINING 30\n",
      "SPARSITY FRAC:  {'Nnodes': 30, 'Nedges': 60, 'density_sq': 0.06666666666666667, 'density_lin': 2.0}\n",
      "<module 'openLoop.system.DAG_algorithm' from '/home/mcculler/local/home_sync/projects/openLoop/openLoop/system/DAG_algorithm.py'>\n",
      "TRIVIAL STAGE, REMAINING 30\n",
      "TRIVIAL STAGE, REMAINING 30\n",
      "BADGUY STAGE, REMAINING 30\n",
      "SPARSITY FRAC:  {'Nnodes': 30, 'Nedges': 128, 'density_sq': 0.14222222222222222, 'density_lin': 4.266666666666667}\n",
      "<module 'openLoop.system.DAG_algorithm' from '/home/mcculler/local/home_sync/projects/openLoop/openLoop/system/DAG_algorithm.py'>\n",
      "TRIVIAL STAGE, REMAINING 30\n",
      "TRIVIAL STAGE, REMAINING 30\n",
      "BADGUY STAGE, REMAINING 30\n",
      "SPARSITY FRAC:  {'Nnodes': 30, 'Nedges': 103, 'density_sq': 0.11444444444444445, 'density_lin': 3.433333333333333}\n",
      "<module 'openLoop.system.DAG_algorithm' from '/home/mcculler/local/home_sync/projects/openLoop/openLoop/system/DAG_algorithm.py'>\n",
      "TRIVIAL STAGE, REMAINING 30\n",
      "TRIVIAL STAGE, REMAINING 30\n",
      "BADGUY STAGE, REMAINING 30\n",
      "SPARSITY FRAC:  {'Nnodes': 30, 'Nedges': 46, 'density_sq': 0.051111111111111114, 'density_lin': 1.5333333333333334}\n",
      "<module 'openLoop.system.DAG_algorithm' from '/home/mcculler/local/home_sync/projects/openLoop/openLoop/system/DAG_algorithm.py'>\n",
      "TRIVIAL STAGE, REMAINING 30\n",
      "TRIVIAL STAGE, REMAINING 29\n",
      "BADGUY STAGE, REMAINING 29\n",
      "SPARSITY FRAC:  {'Nnodes': 30, 'Nedges': 88, 'density_sq': 0.09777777777777778, 'density_lin': 2.933333333333333}\n",
      "<module 'openLoop.system.DAG_algorithm' from '/home/mcculler/local/home_sync/projects/openLoop/openLoop/system/DAG_algorithm.py'>\n",
      "TRIVIAL STAGE, REMAINING 30\n",
      "TRIVIAL STAGE, REMAINING 30\n",
      "BADGUY STAGE, REMAINING 30\n",
      "SPARSITY FRAC:  {'Nnodes': 30, 'Nedges': 123, 'density_sq': 0.13666666666666666, 'density_lin': 4.1}\n",
      "<module 'openLoop.system.DAG_algorithm' from '/home/mcculler/local/home_sync/projects/openLoop/openLoop/system/DAG_algorithm.py'>\n",
      "TRIVIAL STAGE, REMAINING 30\n",
      "TRIVIAL STAGE, REMAINING 30\n",
      "BADGUY STAGE, REMAINING 30\n",
      "SPARSITY FRAC:  {'Nnodes': 30, 'Nedges': 101, 'density_sq': 0.11222222222222222, 'density_lin': 3.3666666666666667}\n",
      "<module 'openLoop.system.DAG_algorithm' from '/home/mcculler/local/home_sync/projects/openLoop/openLoop/system/DAG_algorithm.py'>\n",
      "TRIVIAL STAGE, REMAINING 30\n",
      "TRIVIAL STAGE, REMAINING 30\n",
      "BADGUY STAGE, REMAINING 30\n",
      "SPARSITY FRAC:  {'Nnodes': 30, 'Nedges': 139, 'density_sq': 0.15444444444444444, 'density_lin': 4.633333333333334}\n",
      "<module 'openLoop.system.DAG_algorithm' from '/home/mcculler/local/home_sync/projects/openLoop/openLoop/system/DAG_algorithm.py'>\n",
      "TRIVIAL STAGE, REMAINING 30\n",
      "TRIVIAL STAGE, REMAINING 29\n",
      "BADGUY STAGE, REMAINING 29\n",
      "SPARSITY FRAC:  {'Nnodes': 30, 'Nedges': 73, 'density_sq': 0.0811111111111111, 'density_lin': 2.433333333333333}\n",
      "<module 'openLoop.system.DAG_algorithm' from '/home/mcculler/local/home_sync/projects/openLoop/openLoop/system/DAG_algorithm.py'>\n",
      "TRIVIAL STAGE, REMAINING 30\n",
      "TRIVIAL STAGE, REMAINING 29\n",
      "BADGUY STAGE, REMAINING 29\n",
      "SPARSITY FRAC:  {'Nnodes': 30, 'Nedges': 79, 'density_sq': 0.08777777777777777, 'density_lin': 2.6333333333333333}\n",
      "<module 'openLoop.system.DAG_algorithm' from '/home/mcculler/local/home_sync/projects/openLoop/openLoop/system/DAG_algorithm.py'>\n",
      "TRIVIAL STAGE, REMAINING 30\n",
      "TRIVIAL STAGE, REMAINING 29\n",
      "BADGUY STAGE, REMAINING 29\n",
      "SPARSITY FRAC:  {'Nnodes': 30, 'Nedges': 57, 'density_sq': 0.06333333333333334, 'density_lin': 1.9}\n",
      "<module 'openLoop.system.DAG_algorithm' from '/home/mcculler/local/home_sync/projects/openLoop/openLoop/system/DAG_algorithm.py'>\n",
      "TRIVIAL STAGE, REMAINING 30\n",
      "TRIVIAL STAGE, REMAINING 30\n",
      "BADGUY STAGE, REMAINING 30\n",
      "SPARSITY FRAC:  {'Nnodes': 100, 'Nedges': 306, 'density_sq': 0.0306, 'density_lin': 3.06}\n",
      "<module 'openLoop.system.DAG_algorithm' from '/home/mcculler/local/home_sync/projects/openLoop/openLoop/system/DAG_algorithm.py'>\n",
      "TRIVIAL STAGE, REMAINING 100\n",
      "TRIVIAL STAGE, REMAINING 100\n",
      "BADGUY STAGE, REMAINING 100\n",
      "SPARSITY FRAC:  {'Nnodes': 100, 'Nedges': 334, 'density_sq': 0.0334, 'density_lin': 3.34}\n",
      "<module 'openLoop.system.DAG_algorithm' from '/home/mcculler/local/home_sync/projects/openLoop/openLoop/system/DAG_algorithm.py'>\n",
      "TRIVIAL STAGE, REMAINING 100\n",
      "TRIVIAL STAGE, REMAINING 99\n",
      "BADGUY STAGE, REMAINING 99\n",
      "SPARSITY FRAC:  {'Nnodes': 100, 'Nedges': 386, 'density_sq': 0.0386, 'density_lin': 3.86}\n",
      "<module 'openLoop.system.DAG_algorithm' from '/home/mcculler/local/home_sync/projects/openLoop/openLoop/system/DAG_algorithm.py'>\n",
      "TRIVIAL STAGE, REMAINING 100\n",
      "TRIVIAL STAGE, REMAINING 100\n",
      "BADGUY STAGE, REMAINING 100\n",
      "SPARSITY FRAC:  {'Nnodes': 100, 'Nedges': 256, 'density_sq': 0.0256, 'density_lin': 2.56}\n",
      "<module 'openLoop.system.DAG_algorithm' from '/home/mcculler/local/home_sync/projects/openLoop/openLoop/system/DAG_algorithm.py'>\n",
      "TRIVIAL STAGE, REMAINING 100\n",
      "TRIVIAL STAGE, REMAINING 100\n",
      "BADGUY STAGE, REMAINING 100\n",
      "SPARSITY FRAC:  {'Nnodes': 100, 'Nedges': 285, 'density_sq': 0.0285, 'density_lin': 2.85}\n",
      "<module 'openLoop.system.DAG_algorithm' from '/home/mcculler/local/home_sync/projects/openLoop/openLoop/system/DAG_algorithm.py'>\n",
      "TRIVIAL STAGE, REMAINING 100\n",
      "TRIVIAL STAGE, REMAINING 99\n",
      "BADGUY STAGE, REMAINING 99\n",
      "SPARSITY FRAC:  {'Nnodes': 100, 'Nedges': 256, 'density_sq': 0.0256, 'density_lin': 2.56}\n",
      "<module 'openLoop.system.DAG_algorithm' from '/home/mcculler/local/home_sync/projects/openLoop/openLoop/system/DAG_algorithm.py'>\n",
      "TRIVIAL STAGE, REMAINING 100\n",
      "TRIVIAL STAGE, REMAINING 99\n",
      "BADGUY STAGE, REMAINING 99\n",
      "SPARSITY FRAC:  {'Nnodes': 100, 'Nedges': 313, 'density_sq': 0.0313, 'density_lin': 3.13}\n",
      "<module 'openLoop.system.DAG_algorithm' from '/home/mcculler/local/home_sync/projects/openLoop/openLoop/system/DAG_algorithm.py'>\n",
      "TRIVIAL STAGE, REMAINING 100\n",
      "TRIVIAL STAGE, REMAINING 100\n",
      "BADGUY STAGE, REMAINING 100\n",
      "SPARSITY FRAC:  {'Nnodes': 100, 'Nedges': 322, 'density_sq': 0.0322, 'density_lin': 3.22}\n",
      "<module 'openLoop.system.DAG_algorithm' from '/home/mcculler/local/home_sync/projects/openLoop/openLoop/system/DAG_algorithm.py'>\n",
      "TRIVIAL STAGE, REMAINING 100\n",
      "TRIVIAL STAGE, REMAINING 99\n",
      "BADGUY STAGE, REMAINING 99\n",
      "SPARSITY FRAC:  {'Nnodes': 100, 'Nedges': 280, 'density_sq': 0.028, 'density_lin': 2.8}\n",
      "<module 'openLoop.system.DAG_algorithm' from '/home/mcculler/local/home_sync/projects/openLoop/openLoop/system/DAG_algorithm.py'>\n",
      "TRIVIAL STAGE, REMAINING 100\n",
      "TRIVIAL STAGE, REMAINING 100\n",
      "BADGUY STAGE, REMAINING 100\n",
      "SPARSITY FRAC:  {'Nnodes': 100, 'Nedges': 350, 'density_sq': 0.035, 'density_lin': 3.5}\n",
      "<module 'openLoop.system.DAG_algorithm' from '/home/mcculler/local/home_sync/projects/openLoop/openLoop/system/DAG_algorithm.py'>\n",
      "TRIVIAL STAGE, REMAINING 100\n",
      "TRIVIAL STAGE, REMAINING 100\n",
      "BADGUY STAGE, REMAINING 100\n"
     ]
    },
    {
     "name": "stderr",
     "output_type": "stream",
     "text": [
      "/home/mcculler/local/home_sync/projects/openLoop/openLoop/system/DAG_algorithm.py:645: RuntimeWarning: invalid value encountered in true_divide\n",
      "  u_mod_edge = edge + norm_orig * edge / abs(edge)\n",
      "/home/mcculler/local/home_sync/projects/openLoop/openLoop/system/DAG_algorithm.py:365: RuntimeWarning: invalid value encountered in greater\n",
      "  rel_r_to_c = np.asarray(np.count_nonzero(normr > normc))\n",
      "/home/mcculler/local/home_sync/projects/openLoop/openLoop/system/DAG_algorithm.py:387: RuntimeWarning: invalid value encountered in greater_equal\n",
      "  bignodes_r = np.array(rvec) >= 1./(len(req[node]))**.5\n",
      "/home/mcculler/local/home_sync/projects/openLoop/openLoop/system/DAG_algorithm.py:950: RuntimeWarning: divide by zero encountered in true_divide\n",
      "  CLG = -1 / self_edge\n",
      "/home/mcculler/local/home_sync/projects/openLoop/openLoop/system/DAG_algorithm.py:950: RuntimeWarning: invalid value encountered in true_divide\n",
      "  CLG = -1 / self_edge\n",
      "/home/mcculler/local/home_sync/projects/openLoop/openLoop/system/DAG_algorithm.py:958: RuntimeWarning: invalid value encountered in multiply\n",
      "  prod_L = sedge * CLG\n",
      "/home/mcculler/local/home_sync/projects/openLoop/openLoop/system/DAG_algorithm.py:987: RuntimeWarning: invalid value encountered in multiply\n",
      "  prod_L = sedge * CLG\n",
      "/home/mcculler/local/home_sync/projects/openLoop/openLoop/system/DAG_algorithm.py:461: RuntimeWarning: invalid value encountered in greater_equal\n",
      "  bignodes_c = np.array(cvec) >= 1./(len(seq[node]))**.5\n"
     ]
    },
    {
     "name": "stdout",
     "output_type": "stream",
     "text": [
      "SPARSITY FRAC:  {'Nnodes': 100, 'Nedges': 247, 'density_sq': 0.0247, 'density_lin': 2.47}\n",
      "<module 'openLoop.system.DAG_algorithm' from '/home/mcculler/local/home_sync/projects/openLoop/openLoop/system/DAG_algorithm.py'>\n",
      "TRIVIAL STAGE, REMAINING 100\n",
      "TRIVIAL STAGE, REMAINING 100\n",
      "BADGUY STAGE, REMAINING 100\n",
      "SPARSITY FRAC:  {'Nnodes': 100, 'Nedges': 318, 'density_sq': 0.0318, 'density_lin': 3.18}\n",
      "<module 'openLoop.system.DAG_algorithm' from '/home/mcculler/local/home_sync/projects/openLoop/openLoop/system/DAG_algorithm.py'>\n",
      "TRIVIAL STAGE, REMAINING 100\n",
      "TRIVIAL STAGE, REMAINING 100\n",
      "BADGUY STAGE, REMAINING 100\n",
      "SPARSITY FRAC:  {'Nnodes': 300, 'Nedges': 960, 'density_sq': 0.010666666666666666, 'density_lin': 3.2}\n",
      "<module 'openLoop.system.DAG_algorithm' from '/home/mcculler/local/home_sync/projects/openLoop/openLoop/system/DAG_algorithm.py'>\n",
      "TRIVIAL STAGE, REMAINING 300\n",
      "TRIVIAL STAGE, REMAINING 300\n",
      "BADGUY STAGE, REMAINING 300\n",
      "SPARSITY FRAC:  {'Nnodes': 300, 'Nedges': 1035, 'density_sq': 0.0115, 'density_lin': 3.45}\n",
      "<module 'openLoop.system.DAG_algorithm' from '/home/mcculler/local/home_sync/projects/openLoop/openLoop/system/DAG_algorithm.py'>\n",
      "TRIVIAL STAGE, REMAINING 300\n",
      "TRIVIAL STAGE, REMAINING 299\n",
      "BADGUY STAGE, REMAINING 299\n",
      "SPARSITY FRAC:  {'Nnodes': 300, 'Nedges': 960, 'density_sq': 0.010666666666666666, 'density_lin': 3.2}\n",
      "<module 'openLoop.system.DAG_algorithm' from '/home/mcculler/local/home_sync/projects/openLoop/openLoop/system/DAG_algorithm.py'>\n",
      "TRIVIAL STAGE, REMAINING 300\n",
      "TRIVIAL STAGE, REMAINING 299\n",
      "BADGUY STAGE, REMAINING 299\n",
      "SPARSITY FRAC:  {'Nnodes': 300, 'Nedges': 1008, 'density_sq': 0.0112, 'density_lin': 3.36}\n",
      "<module 'openLoop.system.DAG_algorithm' from '/home/mcculler/local/home_sync/projects/openLoop/openLoop/system/DAG_algorithm.py'>\n",
      "TRIVIAL STAGE, REMAINING 300\n",
      "TRIVIAL STAGE, REMAINING 299\n",
      "BADGUY STAGE, REMAINING 299\n",
      "SPARSITY FRAC:  {'Nnodes': 300, 'Nedges': 938, 'density_sq': 0.010422222222222222, 'density_lin': 3.1266666666666665}\n",
      "<module 'openLoop.system.DAG_algorithm' from '/home/mcculler/local/home_sync/projects/openLoop/openLoop/system/DAG_algorithm.py'>\n",
      "TRIVIAL STAGE, REMAINING 300\n",
      "TRIVIAL STAGE, REMAINING 299\n",
      "BADGUY STAGE, REMAINING 299\n",
      "SPARSITY FRAC:  {'Nnodes': 300, 'Nedges': 935, 'density_sq': 0.010388888888888888, 'density_lin': 3.1166666666666667}\n",
      "<module 'openLoop.system.DAG_algorithm' from '/home/mcculler/local/home_sync/projects/openLoop/openLoop/system/DAG_algorithm.py'>\n",
      "TRIVIAL STAGE, REMAINING 300\n",
      "TRIVIAL STAGE, REMAINING 300\n",
      "BADGUY STAGE, REMAINING 300\n",
      "SPARSITY FRAC:  {'Nnodes': 300, 'Nedges': 1016, 'density_sq': 0.011288888888888888, 'density_lin': 3.3866666666666667}\n",
      "<module 'openLoop.system.DAG_algorithm' from '/home/mcculler/local/home_sync/projects/openLoop/openLoop/system/DAG_algorithm.py'>\n",
      "TRIVIAL STAGE, REMAINING 300\n",
      "TRIVIAL STAGE, REMAINING 300\n",
      "BADGUY STAGE, REMAINING 300\n",
      "SPARSITY FRAC:  {'Nnodes': 300, 'Nedges': 897, 'density_sq': 0.009966666666666667, 'density_lin': 2.99}\n",
      "<module 'openLoop.system.DAG_algorithm' from '/home/mcculler/local/home_sync/projects/openLoop/openLoop/system/DAG_algorithm.py'>\n",
      "TRIVIAL STAGE, REMAINING 300\n",
      "TRIVIAL STAGE, REMAINING 299\n",
      "BADGUY STAGE, REMAINING 299\n",
      "SPARSITY FRAC:  {'Nnodes': 300, 'Nedges': 1292, 'density_sq': 0.014355555555555555, 'density_lin': 4.306666666666667}\n",
      "<module 'openLoop.system.DAG_algorithm' from '/home/mcculler/local/home_sync/projects/openLoop/openLoop/system/DAG_algorithm.py'>\n",
      "TRIVIAL STAGE, REMAINING 300\n",
      "TRIVIAL STAGE, REMAINING 299\n",
      "BADGUY STAGE, REMAINING 299\n",
      "SPARSITY FRAC:  {'Nnodes': 300, 'Nedges': 1053, 'density_sq': 0.0117, 'density_lin': 3.51}\n",
      "<module 'openLoop.system.DAG_algorithm' from '/home/mcculler/local/home_sync/projects/openLoop/openLoop/system/DAG_algorithm.py'>\n",
      "TRIVIAL STAGE, REMAINING 300\n",
      "TRIVIAL STAGE, REMAINING 299\n",
      "BADGUY STAGE, REMAINING 299\n",
      "SPARSITY FRAC:  {'Nnodes': 300, 'Nedges': 882, 'density_sq': 0.0098, 'density_lin': 2.94}\n",
      "<module 'openLoop.system.DAG_algorithm' from '/home/mcculler/local/home_sync/projects/openLoop/openLoop/system/DAG_algorithm.py'>\n",
      "TRIVIAL STAGE, REMAINING 300\n",
      "TRIVIAL STAGE, REMAINING 299\n",
      "BADGUY STAGE, REMAINING 299\n",
      "SPARSITY FRAC:  {'Nnodes': 300, 'Nedges': 1002, 'density_sq': 0.011133333333333334, 'density_lin': 3.34}\n",
      "<module 'openLoop.system.DAG_algorithm' from '/home/mcculler/local/home_sync/projects/openLoop/openLoop/system/DAG_algorithm.py'>\n",
      "TRIVIAL STAGE, REMAINING 300\n",
      "TRIVIAL STAGE, REMAINING 300\n",
      "BADGUY STAGE, REMAINING 300\n"
     ]
    }
   ],
   "source": [
    "mats = []\n",
    "for N in [10, 30, 100, 300]:\n",
    "    for length in [10, 100, 1000, 10000]:\n",
    "        for inst in range(3):\n",
    "            r = SVD_compare_error(\n",
    "                N = N,\n",
    "                length = length,\n",
    "                N_in = 1,\n",
    "            )\n",
    "            mats.append(r)"
   ]
  },
  {
   "cell_type": "code",
   "execution_count": 4,
   "metadata": {
    "collapsed": false,
    "deletable": true,
    "editable": true
   },
   "outputs": [
    {
     "name": "stdout",
     "output_type": "stream",
     "text": [
      "figure: plots/timing_snode_direct.png\n",
      "[[file:plots/timing_snode_direct.png]]\n"
     ]
    },
    {
     "data": {
      "text/html": [
       "<img src=\"1497210037/../plots/timing_snode_direct.png?1497210037\">"
      ],
      "text/plain": [
       "<IPython.core.display.HTML object>"
      ]
     },
     "metadata": {},
     "output_type": "display_data"
    }
   ],
   "source": [
    "axB = mplfigB(Nrows=1)\n",
    "color_by_len = {\n",
    "    10 : 'blue',\n",
    "    100 : 'green',\n",
    "    1000 : 'purple',\n",
    "    10000 : 'red',\n",
    "}\n",
    "for r in mats:\n",
    "    axB.ax0.scatter(\n",
    "        r.Nnodes, \n",
    "        r.time,\n",
    "        color = color_by_len[r.length],\n",
    "    )\n",
    "axB.ax0.set_xscale('log')\n",
    "axB.ax0.set_yscale('log')\n",
    "axB.ax0.set_xlim(9, 400)\n",
    "axB.save('timing_snode_direct')"
   ]
  },
  {
   "cell_type": "code",
   "execution_count": 5,
   "metadata": {
    "collapsed": false,
    "deletable": true,
    "editable": true
   },
   "outputs": [
    {
     "name": "stdout",
     "output_type": "stream",
     "text": [
      "figure: plots/timing_snode_relsq2.png\n",
      "[[file:plots/timing_snode_relsq2.png]]\n"
     ]
    },
    {
     "data": {
      "text/html": [
       "<img src=\"1497210039/../plots/timing_snode_relsq2.png?1497210039\">"
      ],
      "text/plain": [
       "<IPython.core.display.HTML object>"
      ]
     },
     "metadata": {},
     "output_type": "display_data"
    }
   ],
   "source": [
    "axB = mplfigB(Nrows=1)\n",
    "for r in mats:\n",
    "    axB.ax0.scatter(\n",
    "        r.Nnodes, \n",
    "        r.time / r.Nnodes,\n",
    "        color = color_by_len[r.length],\n",
    "    )\n",
    "axB.ax0.set_xscale('log')\n",
    "axB.ax0.set_yscale('log')\n",
    "axB.ax0.set_xlim(9, 400)\n",
    "axB.save('timing_snode_relsq2')"
   ]
  },
  {
   "cell_type": "code",
   "execution_count": 6,
   "metadata": {
    "collapsed": false,
    "deletable": true,
    "editable": true
   },
   "outputs": [
    {
     "name": "stdout",
     "output_type": "stream",
     "text": [
      "figure: plots/timing_snode_rellength.png\n",
      "[[file:plots/timing_snode_rellength.png]]\n"
     ]
    },
    {
     "data": {
      "text/html": [
       "<img src=\"1497210041/../plots/timing_snode_rellength.png?1497210041\">"
      ],
      "text/plain": [
       "<IPython.core.display.HTML object>"
      ]
     },
     "metadata": {},
     "output_type": "display_data"
    }
   ],
   "source": [
    "axB = mplfigB(Nrows=1)\n",
    "for r in mats:\n",
    "    axB.ax0.scatter(\n",
    "        r.Nnodes, \n",
    "        r.time / r.length,\n",
    "        color = color_by_len[r.length],\n",
    "    )\n",
    "axB.ax0.set_xscale('log')\n",
    "axB.ax0.set_yscale('log')\n",
    "axB.ax0.set_xlim(9, 400)\n",
    "axB.save('timing_snode_rellength')"
   ]
  },
  {
   "cell_type": "code",
   "execution_count": null,
   "metadata": {
    "collapsed": true
   },
   "outputs": [],
   "source": []
  }
 ],
 "metadata": {
  "kernelspec": {
   "display_name": "Python 3",
   "language": "python",
   "name": "python3"
  },
  "language_info": {
   "codemirror_mode": {
    "name": "ipython",
    "version": 3
   },
   "file_extension": ".py",
   "mimetype": "text/x-python",
   "name": "python",
   "nbconvert_exporter": "python",
   "pygments_lexer": "ipython3",
   "version": "3.5.3"
  },
  "latex_envs": {
   "bibliofile": "biblio.bib",
   "cite_by": "apalike",
   "current_citInitial": 1,
   "eqLabelWithNumbers": true,
   "eqNumInitial": 0
  }
 },
 "nbformat": 4,
 "nbformat_minor": 1
}
