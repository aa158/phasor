{
 "cells": [
  {
   "cell_type": "code",
   "execution_count": 1,
   "metadata": {
    "collapsed": false,
    "deletable": true,
    "editable": true
   },
   "outputs": [
    {
     "name": "stdout",
     "output_type": "stream",
     "text": [
      "Populating the interactive namespace from numpy and matplotlib\n",
      "Sympy version:  1.0\n"
     ]
    }
   ],
   "source": [
    "import sympy\n",
    "from openLoop.utilities.ipynb.displays import *\n",
    "from openLoop.utilities.ipynb.ipy_sympy import *\n",
    "import scipy.linalg\n",
    "\n",
    "\n",
    "import numpy.testing as np_test\n",
    "import declarative\n",
    "\n",
    "from test_SVD import SVD_gen_check, gen_rand_unitary\n",
    "from openLoop.system import DAG_algorithm\n",
    "from openLoop.system import SRE_matrix_algorithms\n",
    "from openLoop.system import scisparse_algorithm\n",
    "\n",
    "import timeit\n",
    "\n",
    "asavefig.org_subfolder = 'plots'"
   ]
  },
  {
   "cell_type": "code",
   "execution_count": 48,
   "metadata": {
    "collapsed": true,
    "deletable": true,
    "editable": true
   },
   "outputs": [],
   "source": [
    "from functools import reduce\n",
    "def SVD_genmatrix(\n",
    "    N = 10,\n",
    "    length = 1,\n",
    "):\n",
    "    U = gen_rand_unitary(N = N, length = length)\n",
    "    V = gen_rand_unitary(N = N, length = length)\n",
    "\n",
    "    seq = dict()\n",
    "    req = dict()\n",
    "    edge_map = dict()\n",
    "    S_diags = []\n",
    "    for idx in range(N):\n",
    "        s_diag = 10**(-5 + 10 * np.random.random(length))\n",
    "        edge_map[idx, idx] = s_diag\n",
    "        S_diags.append(s_diag)\n",
    "        seq[idx] = set([idx])\n",
    "        req[idx] = set([idx])\n",
    "    S = seq, req, edge_map\n",
    "    condition = reduce(np.maximum, S_diags) / reduce(np.minimum, S_diags)\n",
    "\n",
    "    M = SRE_matrix_algorithms.matrix_mult_sre(\n",
    "        SRE_matrix_algorithms.matrix_mult_sre(U, S), V\n",
    "    )\n",
    "\n",
    "    SRE_matrix_algorithms.check_sre(M)\n",
    "    sparsity = SRE_matrix_algorithms.SRE_count_sparsity(M)\n",
    "    edge_map = M[2]\n",
    "    \n",
    "    m = scisparse.dok_matrix((N, N), dtype = complex)\n",
    "    for (k1, k2), e in edge_map.items():\n",
    "        m[k1, k2] = e\n",
    "    mtrx = scisparse.csc_matrix(m)\n",
    "    \n",
    "    b = declarative.Bunch( \n",
    "        edge_map = edge_map,\n",
    "        csc = mtrx,\n",
    "    )\n",
    "    b.update(sparsity)\n",
    "    return b"
   ]
  },
  {
   "cell_type": "code",
   "execution_count": 49,
   "metadata": {
    "collapsed": false,
    "deletable": true,
    "editable": true
   },
   "outputs": [],
   "source": [
    "mat = SVD_genmatrix(N = 300)\n",
    "import scipy.sparse as scisparse"
   ]
  },
  {
   "cell_type": "code",
   "execution_count": 40,
   "metadata": {
    "collapsed": false,
    "deletable": true,
    "editable": true
   },
   "outputs": [
    {
     "data": {
      "text/plain": [
       "<300x300 sparse matrix of type '<class 'numpy.complex128'>'\n",
       "\twith 974 stored elements in Compressed Sparse Column format>"
      ]
     },
     "execution_count": 40,
     "metadata": {},
     "output_type": "execute_result"
    }
   ],
   "source": []
  },
  {
   "cell_type": "code",
   "execution_count": 41,
   "metadata": {
    "collapsed": false,
    "deletable": true,
    "editable": true
   },
   "outputs": [],
   "source": [
    "#imshow(abs(mtrx.toarray()) != 0)\n",
    "import scipy.io"
   ]
  },
  {
   "cell_type": "code",
   "execution_count": 50,
   "metadata": {
    "collapsed": true,
    "deletable": true,
    "editable": true
   },
   "outputs": [],
   "source": [
    "scipy.io.savemat(\n",
    "    'mat_tests.mat', \n",
    "     mdict=dict(\n",
    "         test_100 = SVD_genmatrix(N = 100).csc,\n",
    "         test_300 = SVD_genmatrix(N = 300).csc,\n",
    "         test_1000 = SVD_genmatrix(N = 1000).csc,\n",
    "     ),\n",
    ")"
   ]
  },
  {
   "cell_type": "code",
   "execution_count": null,
   "metadata": {
    "collapsed": true,
    "deletable": true,
    "editable": true
   },
   "outputs": [],
   "source": []
  }
 ],
 "metadata": {
  "kernelspec": {
   "display_name": "Python 3",
   "language": "python",
   "name": "python3"
  },
  "language_info": {
   "codemirror_mode": {
    "name": "ipython",
    "version": 3
   },
   "file_extension": ".py",
   "mimetype": "text/x-python",
   "name": "python",
   "nbconvert_exporter": "python",
   "pygments_lexer": "ipython3",
   "version": "3.5.3"
  },
  "latex_envs": {
   "bibliofile": "biblio.bib",
   "cite_by": "apalike",
   "current_citInitial": 1,
   "eqLabelWithNumbers": true,
   "eqNumInitial": 0
  }
 },
 "nbformat": 4,
 "nbformat_minor": 1
}
